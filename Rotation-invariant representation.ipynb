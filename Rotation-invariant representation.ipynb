{
 "cells": [
  {
   "cell_type": "markdown",
   "id": "447d0107",
   "metadata": {},
   "source": [
    "### Problem: https://youtu.be/g9n0a0644B4"
   ]
  },
  {
   "cell_type": "code",
   "execution_count": 1,
   "id": "cf277e9e",
   "metadata": {},
   "outputs": [],
   "source": [
    "import matplotlib.pyplot as plt\n",
    "import numpy as np"
   ]
  },
  {
   "cell_type": "code",
   "execution_count": 51,
   "id": "cd39c7ad",
   "metadata": {},
   "outputs": [],
   "source": [
    "#NEIGHBOR_DELTAS = [(-1, -1), (0, -1), (1, -1), (1, 0), (1, 1), (0, 1), (-1, 1), (-1, 0)]\n",
    "NEIGHBOR_DELTAS = [(-1, -1), (0, -1), (1, -1), (1, 0), (1, 1), (0, 1), (-1, 1), (-1, 0), (0, 0)]\n",
    "\n",
    "def draw_shape(shape : np.array):\n",
    "    fig, ax = plt.subplots(figsize=(1, 1))\n",
    "    \n",
    "    xsize = shape.shape[1]\n",
    "    ysize = shape.shape[0]\n",
    "\n",
    "    ax.set_aspect('equal')\n",
    "    ax.set_xlim(0, xsize)\n",
    "    ax.set_ylim(0, ysize)\n",
    "    ax.invert_yaxis()\n",
    "\n",
    "    for y in range(ysize):\n",
    "        for x in range(xsize):\n",
    "            if shape[y, x] != 0:\n",
    "                ax.add_patch(plt.Rectangle((x, y), 1, 1, color='green'))\n",
    "\n",
    "    ax.grid(True, linestyle='-', linewidth=0.5)\n",
    "    ax.set_xticks(range(xsize))\n",
    "    ax.set_yticks(range(ysize))\n",
    "    \n",
    "    plt.show()\n",
    "    \n",
    "def lbp(shape : np.array):\n",
    "    shape = np.pad(shape, 2)\n",
    "\n",
    "    xsize = shape.shape[1]\n",
    "    ysize = shape.shape[0]\n",
    "    \n",
    "    result = np.zeros((ysize, xsize), dtype=int)\n",
    "    \n",
    "    def calculate_cell_value(x, y) -> int:\n",
    "        cell_value = 0\n",
    "        for dx, dy in NEIGHBOR_DELTAS:\n",
    "            #bit_value = (shape[y + dy, x + dx] >= shape[y, x])\n",
    "            bit_value = shape[y + dy, x + dx]\n",
    "            cell_value = (cell_value | bit_value) << 1\n",
    "        return cell_value >> 1 # undo the last, extra shift\n",
    "\n",
    "    for y in range(1, ysize - 1):\n",
    "        for x in range(1, xsize - 1):\n",
    "            #print( x, y, shape[y, x] )\n",
    "            result[y - 1, x - 1] = calculate_cell_value(x, y)\n",
    "    return result"
   ]
  },
  {
   "cell_type": "markdown",
   "id": "cf9d1d59",
   "metadata": {},
   "source": [
    "---"
   ]
  },
  {
   "cell_type": "code",
   "execution_count": 52,
   "id": "0fc0d428",
   "metadata": {
    "scrolled": true
   },
   "outputs": [],
   "source": [
    "base_shape1 = np.array([\n",
    "    [1, 1, 1, 0],\n",
    "    [0, 0, 1, 1],\n",
    "    [0, 0, 1, 0],\n",
    "    [0, 0, 1, 0],\n",
    "], dtype=int)\n",
    "\n",
    "base_shape2 = np.array([\n",
    "    [1, 1, 1, 1]\n",
    "], dtype=int)\n",
    "\n",
    "base_shape3 = np.array([\n",
    "    [1, 1, 1, 1],\n",
    "    [1, 0, 0, 0],\n",
    "], dtype=int)\n",
    "\n",
    "base_shape4 = np.array([\n",
    "    [1, 1, 1, 1],\n",
    "    [1, 1, 1, 0],\n",
    "], dtype=int)\n",
    "\n",
    "base_shape5 = np.array([\n",
    "    [1, 1, 1, 1],\n",
    "    [1, 0, 0, 1],\n",
    "    [1, 1, 1, 1],\n",
    "    [1, 1, 1, 1],\n",
    "    [1, 0, 0, 1],\n",
    "    [1, 1, 1, 1],\n",
    "], dtype=int)\n",
    "\n",
    "base_shape6 = np.array([\n",
    "    [1, 0, 0, 1],\n",
    "    [1, 0, 0, 1],\n",
    "    [1, 1, 1, 1],\n",
    "], dtype=int)\n",
    "\n",
    "# List of tuples: (number of rotations, the base shape)\n",
    "base_shapes = [\n",
    "    (4, base_shape1),\n",
    "    (2, base_shape2),\n",
    "    (4, base_shape3),\n",
    "    (4, base_shape4),\n",
    "    (4, base_shape5),\n",
    "    (4, base_shape6),\n",
    "]\n",
    "all_shapes = []\n",
    "\n",
    "# rotate each base shape to make rotated variants of the same shape\n",
    "for rotations, base_shape in base_shapes:\n",
    "    variants = []\n",
    "    for k in range(0, rotations):\n",
    "        variants.append(np.rot90(base_shape, k))\n",
    "    all_shapes.append(variants)"
   ]
  },
  {
   "cell_type": "code",
   "execution_count": 53,
   "id": "0fe9091e",
   "metadata": {
    "scrolled": true
   },
   "outputs": [
    {
     "name": "stdout",
     "output_type": "stream",
     "text": [
      "Next shape:\n"
     ]
    },
    {
     "data": {
      "image/png": "[encoded data removed]",
      "text/plain": [
       "<Figure size 100x100 with 1 Axes>"
      ]
     },
     "metadata": {},
     "output_type": "display_data"
    },
    {
     "data": {
      "image/png": "[encoded data removed]",
      "text/plain": [
       "<Figure size 100x100 with 1 Axes>"
      ]
     },
     "metadata": {},
     "output_type": "display_data"
    },
    {
     "data": {
      "image/png": "[encoded data removed]",
      "text/plain": [
       "<Figure size 100x100 with 1 Axes>"
      ]
     },
     "metadata": {},
     "output_type": "display_data"
    },
    {
     "data": {
      "image/png": "[encoded data removed]",
      "text/plain": [
       "<Figure size 100x100 with 1 Axes>"
      ]
     },
     "metadata": {},
     "output_type": "display_data"
    },
    {
     "name": "stdout",
     "output_type": "stream",
     "text": [
      "Next shape:\n"
     ]
    },
    {
     "data": {
      "image/png": "[encoded data removed]",
      "text/plain": [
       "<Figure size 100x100 with 1 Axes>"
      ]
     },
     "metadata": {},
     "output_type": "display_data"
    },
    {
     "data": {
      "image/png": "[encoded data removed]",
      "text/plain": [
       "<Figure size 100x100 with 1 Axes>"
      ]
     },
     "metadata": {},
     "output_type": "display_data"
    },
    {
     "name": "stdout",
     "output_type": "stream",
     "text": [
      "Next shape:\n"
     ]
    },
    {
     "data": {
      "image/png": "[encoded data removed]",
      "text/plain": [
       "<Figure size 100x100 with 1 Axes>"
      ]
     },
     "metadata": {},
     "output_type": "display_data"
    },
    {
     "data": {
      "image/png": "[encoded data removed]",
      "text/plain": [
       "<Figure size 100x100 with 1 Axes>"
      ]
     },
     "metadata": {},
     "output_type": "display_data"
    },
    {
     "data": {
      "image/png": "[encoded data removed]",
      "text/plain": [
       "<Figure size 100x100 with 1 Axes>"
      ]
     },
     "metadata": {},
     "output_type": "display_data"
    },
    {
     "data": {
      "image/png": "[encoded data removed]",
      "text/plain": [
       "<Figure size 100x100 with 1 Axes>"
      ]
     },
     "metadata": {},
     "output_type": "display_data"
    },
    {
     "name": "stdout",
     "output_type": "stream",
     "text": [
      "Next shape:\n"
     ]
    },
    {
     "data": {
      "image/png": "[encoded data removed]",
      "text/plain": [
       "<Figure size 100x100 with 1 Axes>"
      ]
     },
     "metadata": {},
     "output_type": "display_data"
    },
    {
     "data": {
      "image/png": "[encoded data removed]",
      "text/plain": [
       "<Figure size 100x100 with 1 Axes>"
      ]
     },
     "metadata": {},
     "output_type": "display_data"
    },
    {
     "data": {
      "image/png": "[encoded data removed]",
      "text/plain": [
       "<Figure size 100x100 with 1 Axes>"
      ]
     },
     "metadata": {},
     "output_type": "display_data"
    },
    {
     "data": {
      "image/png": "[encoded data removed]",
      "text/plain": [
       "<Figure size 100x100 with 1 Axes>"
      ]
     },
     "metadata": {},
     "output_type": "display_data"
    },
    {
     "name": "stdout",
     "output_type": "stream",
     "text": [
      "Next shape:\n"
     ]
    },
    {
     "data": {
      "image/png": "[encoded data removed]",
      "text/plain": [
       "<Figure size 100x100 with 1 Axes>"
      ]
     },
     "metadata": {},
     "output_type": "display_data"
    },
    {
     "data": {
      "image/png": "[encoded data removed]",
      "text/plain": [
       "<Figure size 100x100 with 1 Axes>"
      ]
     },
     "metadata": {},
     "output_type": "display_data"
    },
    {
     "data": {
      "image/png": "[encoded data removed]",
      "text/plain": [
       "<Figure size 100x100 with 1 Axes>"
      ]
     },
     "metadata": {},
     "output_type": "display_data"
    },
    {
     "data": {
      "image/png": "[encoded data removed]",
      "text/plain": [
       "<Figure size 100x100 with 1 Axes>"
      ]
     },
     "metadata": {},
     "output_type": "display_data"
    },
    {
     "name": "stdout",
     "output_type": "stream",
     "text": [
      "Next shape:\n"
     ]
    },
    {
     "data": {
      "image/png": "[encoded data removed]",
      "text/plain": [
       "<Figure size 100x100 with 1 Axes>"
      ]
     },
     "metadata": {},
     "output_type": "display_data"
    },
    {
     "data": {
      "image/png": "[encoded data removed]",
      "text/plain": [
       "<Figure size 100x100 with 1 Axes>"
      ]
     },
     "metadata": {},
     "output_type": "display_data"
    },
    {
     "data": {
      "image/png": "[encoded data removed]",
      "text/plain": [
       "<Figure size 100x100 with 1 Axes>"
      ]
     },
     "metadata": {},
     "output_type": "display_data"
    },
    {
     "data": {
      "image/png": "[encoded data removed]",
      "text/plain": [
       "<Figure size 100x100 with 1 Axes>"
      ]
     },
     "metadata": {},
     "output_type": "display_data"
    }
   ],
   "source": [
    "for shape in all_shapes:\n",
    "    print(\"Next shape:\")\n",
    "    for variant in shape:\n",
    "        draw_shape(variant)"
   ]
  },
  {
   "cell_type": "code",
   "execution_count": 54,
   "id": "fed31e36",
   "metadata": {
    "scrolled": false
   },
   "outputs": [
    {
     "name": "stdout",
     "output_type": "stream",
     "text": [
      "--------------------\n",
      "Next shape:\n",
      "--------------------\n",
      "3577:\n"
     ]
    },
    {
     "data": {
      "image/png": "[encoded data removed]",
      "text/plain": [
       "<Figure size 100x100 with 1 Axes>"
      ]
     },
     "metadata": {},
     "output_type": "display_data"
    },
    {
     "name": "stdout",
     "output_type": "stream",
     "text": [
      "--------------------\n",
      "3577:\n"
     ]
    },
    {
     "data": {
      "image/png": "[encoded data removed]",
      "text/plain": [
       "<Figure size 100x100 with 1 Axes>"
      ]
     },
     "metadata": {},
     "output_type": "display_data"
    },
    {
     "name": "stdout",
     "output_type": "stream",
     "text": [
      "--------------------\n",
      "3577:\n"
     ]
    },
    {
     "data": {
      "image/png": "[encoded data removed]",
      "text/plain": [
       "<Figure size 100x100 with 1 Axes>"
      ]
     },
     "metadata": {},
     "output_type": "display_data"
    },
    {
     "name": "stdout",
     "output_type": "stream",
     "text": [
      "--------------------\n",
      "3577:\n"
     ]
    },
    {
     "data": {
      "image/png": "[encoded data removed]",
      "text/plain": [
       "<Figure size 100x100 with 1 Axes>"
      ]
     },
     "metadata": {},
     "output_type": "display_data"
    },
    {
     "name": "stdout",
     "output_type": "stream",
     "text": [
      "Sums of all variants: [3577, 3577, 3577, 3577]\n",
      "--------------------\n",
      "Next shape:\n",
      "--------------------\n",
      "2044:\n"
     ]
    },
    {
     "data": {
      "image/png": "[encoded data removed]",
      "text/plain": [
       "<Figure size 100x100 with 1 Axes>"
      ]
     },
     "metadata": {},
     "output_type": "display_data"
    },
    {
     "name": "stdout",
     "output_type": "stream",
     "text": [
      "--------------------\n",
      "2044:\n"
     ]
    },
    {
     "data": {
      "image/png": "[encoded data removed]",
      "text/plain": [
       "<Figure size 100x100 with 1 Axes>"
      ]
     },
     "metadata": {},
     "output_type": "display_data"
    },
    {
     "name": "stdout",
     "output_type": "stream",
     "text": [
      "Sums of all variants: [2044, 2044]\n",
      "--------------------\n",
      "Next shape:\n",
      "--------------------\n",
      "2555:\n"
     ]
    },
    {
     "data": {
      "image/png": "[encoded data removed]",
      "text/plain": [
       "<Figure size 100x100 with 1 Axes>"
      ]
     },
     "metadata": {},
     "output_type": "display_data"
    },
    {
     "name": "stdout",
     "output_type": "stream",
     "text": [
      "--------------------\n",
      "2555:\n"
     ]
    },
    {
     "data": {
      "image/png": "[encoded data removed]",
      "text/plain": [
       "<Figure size 100x100 with 1 Axes>"
      ]
     },
     "metadata": {},
     "output_type": "display_data"
    },
    {
     "name": "stdout",
     "output_type": "stream",
     "text": [
      "--------------------\n",
      "2555:\n"
     ]
    },
    {
     "data": {
      "image/png": "[encoded data removed]",
      "text/plain": [
       "<Figure size 100x100 with 1 Axes>"
      ]
     },
     "metadata": {},
     "output_type": "display_data"
    },
    {
     "name": "stdout",
     "output_type": "stream",
     "text": [
      "--------------------\n",
      "2555:\n"
     ]
    },
    {
     "data": {
      "image/png": "[encoded data removed]",
      "text/plain": [
       "<Figure size 100x100 with 1 Axes>"
      ]
     },
     "metadata": {},
     "output_type": "display_data"
    },
    {
     "name": "stdout",
     "output_type": "stream",
     "text": [
      "Sums of all variants: [2555, 2555, 2555, 2555]\n",
      "--------------------\n",
      "Next shape:\n",
      "--------------------\n",
      "3577:\n"
     ]
    },
    {
     "data": {
      "image/png": "[encoded data removed]",
      "text/plain": [
       "<Figure size 100x100 with 1 Axes>"
      ]
     },
     "metadata": {},
     "output_type": "display_data"
    },
    {
     "name": "stdout",
     "output_type": "stream",
     "text": [
      "--------------------\n",
      "3577:\n"
     ]
    },
    {
     "data": {
      "image/png": "[encoded data removed]",
      "text/plain": [
       "<Figure size 100x100 with 1 Axes>"
      ]
     },
     "metadata": {},
     "output_type": "display_data"
    },
    {
     "name": "stdout",
     "output_type": "stream",
     "text": [
      "--------------------\n",
      "3577:\n"
     ]
    },
    {
     "data": {
      "image/png": "[encoded data removed]",
      "text/plain": [
       "<Figure size 100x100 with 1 Axes>"
      ]
     },
     "metadata": {},
     "output_type": "display_data"
    },
    {
     "name": "stdout",
     "output_type": "stream",
     "text": [
      "--------------------\n",
      "3577:\n"
     ]
    },
    {
     "data": {
      "image/png": "[encoded data removed]",
      "text/plain": [
       "<Figure size 100x100 with 1 Axes>"
      ]
     },
     "metadata": {},
     "output_type": "display_data"
    },
    {
     "name": "stdout",
     "output_type": "stream",
     "text": [
      "Sums of all variants: [3577, 3577, 3577, 3577]\n",
      "--------------------\n",
      "Next shape:\n",
      "--------------------\n",
      "10220:\n"
     ]
    },
    {
     "data": {
      "image/png": "[encoded data removed]",
      "text/plain": [
       "<Figure size 100x100 with 1 Axes>"
      ]
     },
     "metadata": {},
     "output_type": "display_data"
    },
    {
     "name": "stdout",
     "output_type": "stream",
     "text": [
      "--------------------\n",
      "10220:\n"
     ]
    },
    {
     "data": {
      "image/png": "[encoded data removed]",
      "text/plain": [
       "<Figure size 100x100 with 1 Axes>"
      ]
     },
     "metadata": {},
     "output_type": "display_data"
    },
    {
     "name": "stdout",
     "output_type": "stream",
     "text": [
      "--------------------\n",
      "10220:\n"
     ]
    },
    {
     "data": {
      "image/png": "[encoded data removed]",
      "text/plain": [
       "<Figure size 100x100 with 1 Axes>"
      ]
     },
     "metadata": {},
     "output_type": "display_data"
    },
    {
     "name": "stdout",
     "output_type": "stream",
     "text": [
      "--------------------\n",
      "10220:\n"
     ]
    },
    {
     "data": {
      "image/png": "[encoded data removed]",
      "text/plain": [
       "<Figure size 100x100 with 1 Axes>"
      ]
     },
     "metadata": {},
     "output_type": "display_data"
    },
    {
     "name": "stdout",
     "output_type": "stream",
     "text": [
      "Sums of all variants: [10220, 10220, 10220, 10220]\n",
      "--------------------\n",
      "Next shape:\n",
      "--------------------\n",
      "4088:\n"
     ]
    },
    {
     "data": {
      "image/png": "[encoded data removed]",
      "text/plain": [
       "<Figure size 100x100 with 1 Axes>"
      ]
     },
     "metadata": {},
     "output_type": "display_data"
    },
    {
     "name": "stdout",
     "output_type": "stream",
     "text": [
      "--------------------\n",
      "4088:\n"
     ]
    },
    {
     "data": {
      "image/png": "[encoded data removed]",
      "text/plain": [
       "<Figure size 100x100 with 1 Axes>"
      ]
     },
     "metadata": {},
     "output_type": "display_data"
    },
    {
     "name": "stdout",
     "output_type": "stream",
     "text": [
      "--------------------\n",
      "4088:\n"
     ]
    },
    {
     "data": {
      "image/png": "[encoded data removed]",
      "text/plain": [
       "<Figure size 100x100 with 1 Axes>"
      ]
     },
     "metadata": {},
     "output_type": "display_data"
    },
    {
     "name": "stdout",
     "output_type": "stream",
     "text": [
      "--------------------\n",
      "4088:\n"
     ]
    },
    {
     "data": {
      "image/png": "[encoded data removed]",
      "text/plain": [
       "<Figure size 100x100 with 1 Axes>"
      ]
     },
     "metadata": {},
     "output_type": "display_data"
    },
    {
     "name": "stdout",
     "output_type": "stream",
     "text": [
      "Sums of all variants: [4088, 4088, 4088, 4088]\n"
     ]
    }
   ],
   "source": [
    "for shape in all_shapes:\n",
    "    sums = []\n",
    "    print(\"-\" * 20)\n",
    "    print(\"Next shape:\")\n",
    "    for variant in shape:\n",
    "        lbp_mat = lbp(variant)\n",
    "        print(\"-\" * 20)\n",
    "        sums.append(np.sum(lbp_mat))\n",
    "        print(f\"{sums[-1]}:\")\n",
    "        draw_shape(variant)\n",
    "    print(f\"Sums of all variants: {sums}\")"
   ]
  },
  {
   "cell_type": "code",
   "execution_count": 55,
   "id": "3a66ab2b",
   "metadata": {
    "scrolled": false
   },
   "outputs": [
    {
     "data": {
      "text/plain": [
       "'\\nfor shape in all_shapes:\\n    print(\"-\" * 20)\\n    print(\"Next shape:\")\\n    for variant in shape:\\n\\n        lbp_mat = lbp(variant)\\n        print(\"-\" * 20)\\n        draw_shape(variant)\\n\\n        feature_vector = lbp_mat.flatten()\\n\\n        _ = plt.subplots(figsize=(4, 2))\\n        plt.bar(range(len(feature_vector)), feature_vector)\\n'"
      ]
     },
     "execution_count": 55,
     "metadata": {},
     "output_type": "execute_result"
    }
   ],
   "source": [
    "'''\n",
    "for shape in all_shapes:\n",
    "    print(\"-\" * 20)\n",
    "    print(\"Next shape:\")\n",
    "    for variant in shape:\n",
    "\n",
    "        lbp_mat = lbp(variant)\n",
    "        print(\"-\" * 20)\n",
    "        draw_shape(variant)\n",
    "\n",
    "        feature_vector = lbp_mat.flatten()\n",
    "\n",
    "        _ = plt.subplots(figsize=(4, 2))\n",
    "        plt.bar(range(len(feature_vector)), feature_vector)\n",
    "'''"
   ]
  },
  {
   "cell_type": "code",
   "execution_count": null,
   "id": "a6d914e3",
   "metadata": {},
   "outputs": [],
   "source": []
  }
 ],
 "metadata": {
  "kernelspec": {
   "display_name": "Python 3 (ipykernel)",
   "language": "python",
   "name": "python3"
  },
  "language_info": {
   "codemirror_mode": {
    "name": "ipython",
    "version": 3
   },
   "file_extension": ".py",
   "mimetype": "text/x-python",
   "name": "python",
   "nbconvert_exporter": "python",
   "pygments_lexer": "ipython3",
   "version": "3.10.10"
  }
 },
 "nbformat": 4,
 "nbformat_minor": 5
}
